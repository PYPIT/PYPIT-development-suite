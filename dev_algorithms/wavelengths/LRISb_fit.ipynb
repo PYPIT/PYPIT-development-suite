{
 "cells": [
  {
   "cell_type": "markdown",
   "metadata": {},
   "source": [
    "# Fit for the select lines"
   ]
  },
  {
   "cell_type": "code",
   "execution_count": 1,
   "metadata": {},
   "outputs": [
    {
     "data": {
      "text/plain": [
       "<module 'lrisb_tinkering' from '/home/xavier/local/Python/PypeIt-development-suite/dev_algorithms/wavelengths/lrisb_tinkering.py'>"
      ]
     },
     "execution_count": 1,
     "metadata": {},
     "output_type": "execute_result"
    }
   ],
   "source": [
    "# imports\n",
    "from importlib import reload\n",
    "import numpy as np\n",
    "\n",
    "from pypeit.core.wavecal import wvutils\n",
    "from pypeit.core.wavecal import fitting\n",
    "from pypeit import utils\n",
    "\n",
    "import lrisb_tinkering as lbt\n",
    "reload(lbt)"
   ]
  },
  {
   "cell_type": "markdown",
   "metadata": {},
   "source": [
    "## Load up"
   ]
  },
  {
   "cell_type": "code",
   "execution_count": 2,
   "metadata": {},
   "outputs": [],
   "source": [
    "slit = 13"
   ]
  },
  {
   "cell_type": "code",
   "execution_count": 3,
   "metadata": {},
   "outputs": [],
   "source": [
    "tspec, mspec, mwv, targ_wv, targ_y = lbt.target_lines(slit)"
   ]
  },
  {
   "cell_type": "code",
   "execution_count": 4,
   "metadata": {},
   "outputs": [
    {
     "data": {
      "text/plain": [
       "14"
      ]
     },
     "execution_count": 4,
     "metadata": {},
     "output_type": "execute_result"
    }
   ],
   "source": [
    "ntarg = targ_wv.size\n",
    "ntarg"
   ]
  },
  {
   "cell_type": "markdown",
   "metadata": {},
   "source": [
    "## Find new lines"
   ]
  },
  {
   "cell_type": "code",
   "execution_count": 5,
   "metadata": {},
   "outputs": [],
   "source": [
    "all_tcent, all_ecent, cut_tcent, icut, arc_cont_sub = wvutils.arc_lines_from_spec(tspec)"
   ]
  },
  {
   "cell_type": "code",
   "execution_count": 6,
   "metadata": {},
   "outputs": [
    {
     "data": {
      "text/plain": [
       "array([  38.10355334,   91.89876359,  127.39915479,  213.31936038,\n",
       "        234.7661268 ,  245.91597639,  256.60627901,  568.46783043,\n",
       "        593.5139902 ,  691.00418075,  754.21916488,  785.89354833,\n",
       "        816.56208105, 1030.5417483 , 1069.71404062, 1103.3182084 ,\n",
       "       1164.52282462, 1172.8405715 , 1389.68031371, 1686.96968393,\n",
       "       1774.51462898, 1906.63752008, 1934.92908096, 1943.37032512,\n",
       "       1951.98525721, 2026.1252217 ])"
      ]
     },
     "execution_count": 6,
     "metadata": {},
     "output_type": "execute_result"
    }
   ],
   "source": [
    "all_tcent"
   ]
  },
  {
   "cell_type": "markdown",
   "metadata": {},
   "source": [
    "## Grab initial guess"
   ]
  },
  {
   "cell_type": "code",
   "execution_count": 7,
   "metadata": {},
   "outputs": [
    {
     "data": {
      "text/plain": [
       "1.1529066715511362"
      ]
     },
     "execution_count": 7,
     "metadata": {},
     "output_type": "execute_result"
    }
   ],
   "source": [
    "n_order = 3\n",
    "func = 'legendre'\n",
    "sigrej_first = 3.\n",
    "fmin, fmax = 0., 1.\n",
    "xfit = np.arange(mwv.size)\n",
    "yfit = mwv\n",
    "initial_mask = mwv <= 0.\n",
    "i1 = np.where(~initial_mask)[0][0]\n",
    "disp = mwv[i1+1]-mwv[i1]\n",
    "disp"
   ]
  },
  {
   "cell_type": "code",
   "execution_count": 8,
   "metadata": {},
   "outputs": [
    {
     "data": {
      "text/plain": [
       "array([3369.87025799, 3371.02316466, 3372.17630738, ..., 5920.30894672,\n",
       "       5921.5595237 , 5922.81001483])"
      ]
     },
     "execution_count": 8,
     "metadata": {},
     "output_type": "execute_result"
    }
   ],
   "source": [
    "yfit[~initial_mask]"
   ]
  },
  {
   "cell_type": "code",
   "execution_count": 9,
   "metadata": {},
   "outputs": [],
   "source": [
    "mask, fit = utils.robust_polyfit(xfit, yfit, n_order, function=func, sigma=sigrej_first,\n",
    "                                 initialmask=initial_mask,\n",
    "                                         minx=fmin, maxx=fmax, verbose=True)#, weights=wfit)"
   ]
  },
  {
   "cell_type": "code",
   "execution_count": 10,
   "metadata": {},
   "outputs": [
    {
     "data": {
      "text/plain": [
       "array([   0,    1,    2, ..., 2045, 2046, 2047])"
      ]
     },
     "execution_count": 10,
     "metadata": {},
     "output_type": "execute_result"
    }
   ],
   "source": [
    "xfit[~initial_mask]"
   ]
  },
  {
   "cell_type": "code",
   "execution_count": 11,
   "metadata": {},
   "outputs": [
    {
     "data": {
      "text/plain": [
       "0.9974767642110087"
      ]
     },
     "execution_count": 11,
     "metadata": {},
     "output_type": "execute_result"
    }
   ],
   "source": [
    "rms_ang = utils.calc_fit_rms(xfit[mask == 0], yfit[mask == 0], fit, func, minx=fmin, maxx=fmax)\n",
    "#                                     weights=wfit[mask == 0])\n",
    "rms_pix = rms_ang/disp\n",
    "rms_pix"
   ]
  },
  {
   "cell_type": "code",
   "execution_count": 12,
   "metadata": {},
   "outputs": [
    {
     "data": {
      "text/plain": [
       "array([ 3.37186929e+03,  5.74831250e-01,  1.48538069e-05, -1.01251660e-09])"
      ]
     },
     "execution_count": 12,
     "metadata": {},
     "output_type": "execute_result"
    }
   ],
   "source": [
    "fit"
   ]
  },
  {
   "cell_type": "markdown",
   "metadata": {},
   "source": [
    "## Apply to new lines"
   ]
  },
  {
   "cell_type": "code",
   "execution_count": 13,
   "metadata": {},
   "outputs": [],
   "source": [
    "new_wv = utils.func_val(fit, all_tcent, func, minx=fmin, maxx=fmax)\n",
    "nnew = new_wv.size"
   ]
  },
  {
   "cell_type": "markdown",
   "metadata": {},
   "source": [
    "## Generate difference grid"
   ]
  },
  {
   "cell_type": "code",
   "execution_count": 14,
   "metadata": {},
   "outputs": [],
   "source": [
    "targ_grid = np.outer(targ_wv, np.ones(nnew))\n",
    "new_grid = np.outer(np.ones(ntarg), new_wv)"
   ]
  },
  {
   "cell_type": "code",
   "execution_count": 15,
   "metadata": {},
   "outputs": [],
   "source": [
    "diff = np.abs(targ_grid - new_grid)"
   ]
  },
  {
   "cell_type": "code",
   "execution_count": 16,
   "metadata": {},
   "outputs": [
    {
     "data": {
      "text/plain": [
       "array([ 8.68477998,  5.28751478,  5.20491925,  1.593254  ,  1.74688588,\n",
       "        0.81917933,  1.50415131,  2.35988342,  2.66606005,  2.3288189 ,\n",
       "        1.23140817,  4.24846928, 11.81401315,  1.09820317])"
      ]
     },
     "execution_count": 16,
     "metadata": {},
     "output_type": "execute_result"
    }
   ],
   "source": [
    "mgrid = np.min(diff, axis=1)\n",
    "mgrid"
   ]
  },
  {
   "cell_type": "markdown",
   "metadata": {},
   "source": [
    "### Could toss the 2 worst here (or sig clip)"
   ]
  },
  {
   "cell_type": "code",
   "execution_count": 17,
   "metadata": {},
   "outputs": [],
   "source": [
    "loss = mgrid**2 * targ_y"
   ]
  },
  {
   "cell_type": "markdown",
   "metadata": {},
   "source": [
    "----"
   ]
  },
  {
   "cell_type": "markdown",
   "metadata": {},
   "source": [
    "## Try it"
   ]
  },
  {
   "cell_type": "code",
   "execution_count": 18,
   "metadata": {},
   "outputs": [
    {
     "data": {
      "text/plain": [
       "array([ 3.37186929e+03,  5.74831250e-01,  1.48538069e-05, -1.01251660e-09])"
      ]
     },
     "execution_count": 18,
     "metadata": {},
     "output_type": "execute_result"
    }
   ],
   "source": [
    "fit"
   ]
  },
  {
   "cell_type": "code",
   "execution_count": 19,
   "metadata": {},
   "outputs": [],
   "source": [
    "bounds = [ [fit[0]-50., fit[0]+50],\n",
    "         [fit[1]*0.8, fit[1]*1.2],\n",
    "         [fit[2]*-2, fit[2]*2],\n",
    "          [fit[3]*-2, fit[3]*2]]"
   ]
  },
  {
   "cell_type": "code",
   "execution_count": 20,
   "metadata": {},
   "outputs": [
    {
     "data": {
      "text/plain": [
       "[[3321.8692940479305, 3421.8692940479305],\n",
       " [0.45986500030998284, 0.6897975004649742],\n",
       " [-2.970761375108348e-05, 2.970761375108348e-05],\n",
       " [2.0250332054237358e-09, -2.0250332054237358e-09]]"
      ]
     },
     "execution_count": 20,
     "metadata": {},
     "output_type": "execute_result"
    }
   ],
   "source": [
    "bounds"
   ]
  },
  {
   "cell_type": "code",
   "execution_count": 21,
   "metadata": {},
   "outputs": [
    {
     "name": "stdout",
     "output_type": "stream",
     "text": [
      "differential_evolution step 1: f(x)= 7.53933e+07\n",
      "differential_evolution step 2: f(x)= 3.57149e+07\n",
      "differential_evolution step 3: f(x)= 1.98295e+07\n",
      "differential_evolution step 4: f(x)= 1.98295e+07\n",
      "differential_evolution step 5: f(x)= 1.39423e+07\n",
      "differential_evolution step 6: f(x)= 1.39423e+07\n",
      "differential_evolution step 7: f(x)= 1.39423e+07\n",
      "differential_evolution step 8: f(x)= 1.39423e+07\n",
      "differential_evolution step 9: f(x)= 4.50678e+06\n",
      "differential_evolution step 10: f(x)= 1.62342e+06\n",
      "differential_evolution step 11: f(x)= 1.62342e+06\n",
      "differential_evolution step 12: f(x)= 1.62342e+06\n",
      "differential_evolution step 13: f(x)= 1.37596e+06\n",
      "differential_evolution step 14: f(x)= 1.37596e+06\n",
      "differential_evolution step 15: f(x)= 1.37596e+06\n",
      "differential_evolution step 16: f(x)= 1.37596e+06\n",
      "differential_evolution step 17: f(x)= 1.37596e+06\n",
      "differential_evolution step 18: f(x)= 985010\n",
      "differential_evolution step 19: f(x)= 985010\n",
      "differential_evolution step 20: f(x)= 352685\n",
      "differential_evolution step 21: f(x)= 352685\n",
      "differential_evolution step 22: f(x)= 99238.7\n",
      "differential_evolution step 23: f(x)= 99238.7\n",
      "differential_evolution step 24: f(x)= 99238.7\n",
      "differential_evolution step 25: f(x)= 99238.7\n",
      "differential_evolution step 26: f(x)= 99238.7\n",
      "differential_evolution step 27: f(x)= 99238.7\n",
      "differential_evolution step 28: f(x)= 99238.7\n",
      "differential_evolution step 29: f(x)= 99238.7\n",
      "differential_evolution step 30: f(x)= 99238.7\n",
      "differential_evolution step 31: f(x)= 99238.7\n",
      "differential_evolution step 32: f(x)= 59781.1\n",
      "differential_evolution step 33: f(x)= 38651.2\n",
      "differential_evolution step 34: f(x)= 38651.2\n",
      "differential_evolution step 35: f(x)= 38651.2\n",
      "differential_evolution step 36: f(x)= 38651.2\n",
      "differential_evolution step 37: f(x)= 38651.2\n",
      "differential_evolution step 38: f(x)= 38651.2\n",
      "differential_evolution step 39: f(x)= 38651.2\n",
      "differential_evolution step 40: f(x)= 38651.2\n",
      "differential_evolution step 41: f(x)= 38651.2\n",
      "differential_evolution step 42: f(x)= 38384.7\n",
      "differential_evolution step 43: f(x)= 38384.7\n",
      "differential_evolution step 44: f(x)= 38384.7\n",
      "differential_evolution step 45: f(x)= 29005.7\n",
      "differential_evolution step 46: f(x)= 29005.7\n",
      "differential_evolution step 47: f(x)= 29005.7\n",
      "differential_evolution step 48: f(x)= 29005.7\n",
      "differential_evolution step 49: f(x)= 29005.7\n",
      "differential_evolution step 50: f(x)= 29005.7\n",
      "differential_evolution step 51: f(x)= 28856.4\n",
      "differential_evolution step 52: f(x)= 28569.9\n",
      "differential_evolution step 53: f(x)= 28569.9\n",
      "differential_evolution step 54: f(x)= 28156.4\n",
      "differential_evolution step 55: f(x)= 26167.8\n",
      "differential_evolution step 56: f(x)= 26167.8\n",
      "differential_evolution step 57: f(x)= 26167.8\n",
      "differential_evolution step 58: f(x)= 26167.8\n",
      "differential_evolution step 59: f(x)= 26167.8\n",
      "differential_evolution step 60: f(x)= 26167.8\n",
      "differential_evolution step 61: f(x)= 26167.8\n",
      "differential_evolution step 62: f(x)= 26167.8\n",
      "differential_evolution step 63: f(x)= 26167.8\n",
      "differential_evolution step 64: f(x)= 26167.8\n",
      "differential_evolution step 65: f(x)= 26107.9\n",
      "differential_evolution step 66: f(x)= 26045.3\n",
      "differential_evolution step 67: f(x)= 26035.6\n",
      "differential_evolution step 68: f(x)= 26035.6\n",
      "differential_evolution step 69: f(x)= 26035.6\n",
      "differential_evolution step 70: f(x)= 26001.7\n",
      "differential_evolution step 71: f(x)= 26001.7\n",
      "differential_evolution step 72: f(x)= 26001.7\n",
      "differential_evolution step 73: f(x)= 25979.7\n",
      "differential_evolution step 74: f(x)= 25978.4\n",
      "differential_evolution step 75: f(x)= 25978.4\n",
      "differential_evolution step 76: f(x)= 25978.4\n",
      "differential_evolution step 77: f(x)= 25978.4\n",
      "differential_evolution step 78: f(x)= 25978.4\n",
      "differential_evolution step 79: f(x)= 25978.4\n",
      "differential_evolution step 80: f(x)= 25964.5\n",
      "differential_evolution step 81: f(x)= 25964.5\n",
      "differential_evolution step 82: f(x)= 25964.5\n",
      "differential_evolution step 83: f(x)= 25964.5\n",
      "differential_evolution step 84: f(x)= 25958.6\n",
      "differential_evolution step 85: f(x)= 25958.6\n",
      "differential_evolution step 86: f(x)= 25955.4\n",
      "differential_evolution step 87: f(x)= 25955.4\n",
      "differential_evolution step 88: f(x)= 25955.4\n",
      "differential_evolution step 89: f(x)= 25955.4\n",
      "differential_evolution step 90: f(x)= 25955.4\n",
      "differential_evolution step 91: f(x)= 25955.4\n",
      "differential_evolution step 92: f(x)= 25955.4\n",
      "differential_evolution step 93: f(x)= 25955.4\n",
      "differential_evolution step 94: f(x)= 25954.6\n",
      "differential_evolution step 95: f(x)= 25954.6\n",
      "differential_evolution step 96: f(x)= 25954.6\n",
      "differential_evolution step 97: f(x)= 25954.2\n",
      "differential_evolution step 98: f(x)= 25954.1\n",
      "differential_evolution step 99: f(x)= 25954.1\n"
     ]
    }
   ],
   "source": [
    "reload(lbt)\n",
    "result = lbt.fitme(bounds, all_tcent, targ_grid, targ_y)"
   ]
  },
  {
   "cell_type": "code",
   "execution_count": 22,
   "metadata": {},
   "outputs": [
    {
     "data": {
      "text/plain": [
       "     fun: array(0.)\n",
       "     jac: array([0., 0., 0., 0.])\n",
       " message: 'Optimization terminated successfully.'\n",
       "    nfev: 6000\n",
       "     nit: 99\n",
       " success: True\n",
       "       x: array([ 3.35915147e+03,  5.85140273e-01,  1.47307650e-05, -1.26372317e-09])"
      ]
     },
     "execution_count": 22,
     "metadata": {},
     "output_type": "execute_result"
    }
   ],
   "source": [
    "result"
   ]
  },
  {
   "cell_type": "code",
   "execution_count": 23,
   "metadata": {},
   "outputs": [
    {
     "data": {
      "text/plain": [
       "array([3403.28180314, 3466.83270083, 3509.03071785, 3611.96932041,\n",
       "       3637.83420892, 3651.30673525, 3664.2402782 , 4047.7141572 ,\n",
       "       4078.95521668, 4201.05539233, 4280.60289305, 4320.55709201,\n",
       "       4359.29768372, 4630.74265097, 4680.5806445 , 4723.35267228,\n",
       "       4801.2786821 , 4811.8697221 , 5087.69111673, 5462.94373181,\n",
       "       5572.29526921, 5735.95722749, 5770.7593713 , 5781.12523447,\n",
       "       5791.69572699, 5882.28947933])"
      ]
     },
     "execution_count": 23,
     "metadata": {},
     "output_type": "execute_result"
    }
   ],
   "source": [
    "final_wv = utils.func_val(result.x, all_tcent, func, minx=fmin, maxx=fmax)\n",
    "final_wv"
   ]
  },
  {
   "cell_type": "code",
   "execution_count": 24,
   "metadata": {},
   "outputs": [
    {
     "data": {
      "text/plain": [
       "array([3611.69631063, 3651.11454808, 3664.28820811, 4048.28700969,\n",
       "       4079.00672906, 4359.23115343, 4679.74272335, 4723.32893932,\n",
       "       4801.58700243, 4811.8547367 , 5087.89190634, 5462.83996364,\n",
       "       5770.90958433, 5792.31955426])"
      ]
     },
     "execution_count": 24,
     "metadata": {},
     "output_type": "execute_result"
    }
   ],
   "source": [
    "targ_wv"
   ]
  },
  {
   "cell_type": "markdown",
   "metadata": {},
   "source": [
    "## ID lines"
   ]
  },
  {
   "cell_type": "code",
   "execution_count": 25,
   "metadata": {},
   "outputs": [],
   "source": [
    "# Match to line list\n",
    "IDs = []\n",
    "dwv = mwv[i1+1] - mwv[i1]\n",
    "lmask = np.zeros(final_wv.size, dtype=bool)\n",
    "for kk, iwv in enumerate(final_wv):\n",
    "    imin = np.argmin(np.abs(iwv - lbt.llist['wave']))\n",
    "    if np.abs(iwv - lbt.llist['wave'][imin]) < dwv:\n",
    "        lmask[kk] = True\n",
    "        IDs.append(lbt.llist['wave'][imin])"
   ]
  },
  {
   "cell_type": "code",
   "execution_count": 26,
   "metadata": {},
   "outputs": [
    {
     "data": {
      "text/plain": [
       "(array([False,  True, False,  True, False,  True,  True,  True,  True,\n",
       "        False, False, False,  True, False,  True,  True,  True,  True,\n",
       "         True,  True, False, False,  True, False,  True, False]),\n",
       " [3467.1923,\n",
       "  3611.5375,\n",
       "  3651.198,\n",
       "  3664.327,\n",
       "  4047.708,\n",
       "  4078.988,\n",
       "  4359.56,\n",
       "  4681.45,\n",
       "  4723.47,\n",
       "  4801.254,\n",
       "  4811.87,\n",
       "  5087.2393,\n",
       "  5462.268,\n",
       "  5771.21,\n",
       "  5792.276])"
      ]
     },
     "execution_count": 26,
     "metadata": {},
     "output_type": "execute_result"
    }
   ],
   "source": [
    "lmask, IDs"
   ]
  },
  {
   "cell_type": "markdown",
   "metadata": {},
   "source": [
    "## Fit"
   ]
  },
  {
   "cell_type": "code",
   "execution_count": 27,
   "metadata": {},
   "outputs": [
    {
     "name": "stderr",
     "output_type": "stream",
     "text": [
      "\u001b[1;32m[INFO]    ::\u001b[0m \u001b[1;34mfitting.py 180 iterative_fitting()\u001b[0m - n_order = 3: RMS = 0.245852\n",
      "\u001b[1;32m[INFO]    ::\u001b[0m \u001b[1;34mfitting.py 180 iterative_fitting()\u001b[0m - n_order = 4: RMS = 0.0364312\n",
      "\u001b[1;32m[INFO]    ::\u001b[0m \u001b[1;34mfitting.py 218 iterative_fitting()\u001b[0m - Rejecting arc line 3467.19; 3467.6\n",
      "\u001b[1;32m[INFO]    ::\u001b[0m \u001b[1;34mfitting.py 218 iterative_fitting()\u001b[0m - Rejecting arc line 3611.54; 3611.97\n",
      "\u001b[1;32m[INFO]    ::\u001b[0m \u001b[1;34mfitting.py 218 iterative_fitting()\u001b[0m - Rejecting arc line 3664.33; 3664.11\n",
      "\u001b[1;32m[INFO]    ::\u001b[0m \u001b[1;34mfitting.py 218 iterative_fitting()\u001b[0m - Rejecting arc line 4681.45; 4680.74\n",
      "\u001b[1;32m[INFO]    ::\u001b[0m \u001b[1;34mfitting.py 218 iterative_fitting()\u001b[0m - Rejecting arc line 5574.09; 5571.86\n"
     ]
    },
    {
     "data": {
      "text/plain": [
       "{'cen_disp': 1.2706258445850835,\n",
       " 'cen_wave': 4622.6438428727115,\n",
       " 'fitc': array([ 4.62557143e+03,  1.28512543e+03,  8.02279161e+00, -1.05318886e+01,\n",
       "         1.19599600e+00, -2.33441507e-01]),\n",
       " 'fmax': 1.0,\n",
       " 'fmin': 0.0,\n",
       " 'function': 'legendre',\n",
       " 'ions': array(['CdI', 'CdI', 'CdI', 'HgI', 'HgI', 'HgI', 'HgI', 'HgI', 'ZnI',\n",
       "        'ZnI', 'CdI', 'ZnI', 'CdI', 'HgI', 'ArI', 'HgI', 'HgI', 'NeI'],\n",
       "       dtype='<U6'),\n",
       " 'mask': array([ True, False, False,  True, False,  True,  True,  True, False,\n",
       "         True,  True,  True,  True,  True, False,  True,  True,  True]),\n",
       " 'nrej': 3.0,\n",
       " 'nspec': 2048,\n",
       " 'pixel_fit': array([  38.10355334,   91.89876359,  213.31936038,  245.91597639,\n",
       "         256.60627901,  568.46783043,  593.5139902 ,  816.56208105,\n",
       "        1069.71404062, 1103.3182084 , 1164.52282462, 1172.8405715 ,\n",
       "        1389.68031371, 1686.96968393, 1774.51462898, 1934.92908096,\n",
       "        1951.98525721, 2026.1252217 ]),\n",
       " 'rms': 0.016132471986529368,\n",
       " 'shift': 0.0,\n",
       " 'spec': array([40.68923531, 38.09785229, 39.29858661, ..., 31.19853658,\n",
       "        28.4944112 , 25.09514252]),\n",
       " 'tcent': array([  38.10355334,   91.89876359,  127.39915479,  213.31936038,\n",
       "         234.7661268 ,  245.91597639,  256.60627901,  568.46783043,\n",
       "         593.5139902 ,  691.00418075,  754.21916488,  785.89354833,\n",
       "         816.56208105, 1030.5417483 , 1069.71404062, 1103.3182084 ,\n",
       "        1164.52282462, 1172.8405715 , 1389.68031371, 1686.96968393,\n",
       "        1774.51462898, 1906.63752008, 1934.92908096, 1943.37032512,\n",
       "        1951.98525721, 2026.1252217 ]),\n",
       " 'wave_fit': array([3404.6287, 3467.1923, 3611.5375, 3651.198 , 3664.327 , 4047.708 ,\n",
       "        4078.988 , 4359.56  , 4681.45  , 4723.47  , 4801.254 , 4811.87  ,\n",
       "        5087.2393, 5462.268 , 5574.088 , 5771.21  , 5792.276 , 5883.5252]),\n",
       " 'wave_soln': array([3360.4301155 , 3361.58549535, 3362.74112341, ..., 5906.69879538,\n",
       "        5907.92460286, 5909.15031062]),\n",
       " 'weights': array([1., 1., 1., 1., 1., 1., 1., 1., 1., 1., 1., 1., 1., 1., 1., 1., 1.,\n",
       "        1.]),\n",
       " 'xnorm': 2047.0,\n",
       " 'xrej': array([  91.89876359,  213.31936038,  256.60627901, 1069.71404062,\n",
       "        1774.51462898]),\n",
       " 'yrej': array([3467.1923, 3611.5375, 3664.327 , 4681.45  , 5574.088 ])}"
      ]
     },
     "execution_count": 27,
     "metadata": {},
     "output_type": "execute_result"
    }
   ],
   "source": [
    "fitting.iterative_fitting(tspec, all_tcent, np.where(lmask)[0], np.array(IDs), lbt.llist, dwv, \n",
    "                          verbose=True, plot_fil='tmp.png', n_first=3)"
   ]
  },
  {
   "cell_type": "markdown",
   "metadata": {},
   "source": [
    "----"
   ]
  },
  {
   "cell_type": "markdown",
   "metadata": {},
   "source": [
    "# One go"
   ]
  },
  {
   "cell_type": "code",
   "execution_count": 31,
   "metadata": {},
   "outputs": [
    {
     "name": "stdout",
     "output_type": "stream",
     "text": [
      "differential_evolution step 1: f(x)= 2.69686e+07\n",
      "differential_evolution step 2: f(x)= 2.69686e+07\n",
      "differential_evolution step 3: f(x)= 2.28445e+07\n",
      "differential_evolution step 4: f(x)= 6.90001e+06\n",
      "differential_evolution step 5: f(x)= 2.76754e+06\n",
      "differential_evolution step 6: f(x)= 2.76754e+06\n",
      "differential_evolution step 7: f(x)= 2.76754e+06\n",
      "differential_evolution step 8: f(x)= 2.76754e+06\n",
      "differential_evolution step 9: f(x)= 2.76754e+06\n",
      "differential_evolution step 10: f(x)= 2.76754e+06\n",
      "differential_evolution step 11: f(x)= 2.76754e+06\n",
      "differential_evolution step 12: f(x)= 2.76754e+06\n",
      "differential_evolution step 13: f(x)= 2.76754e+06\n",
      "differential_evolution step 14: f(x)= 2.76754e+06\n",
      "differential_evolution step 15: f(x)= 2.76754e+06\n",
      "differential_evolution step 16: f(x)= 2.76754e+06\n",
      "differential_evolution step 17: f(x)= 2.76754e+06\n",
      "differential_evolution step 18: f(x)= 1.52213e+06\n",
      "differential_evolution step 19: f(x)= 1.52213e+06\n",
      "differential_evolution step 20: f(x)= 1.52213e+06\n",
      "differential_evolution step 21: f(x)= 1.52213e+06\n",
      "differential_evolution step 22: f(x)= 1.52213e+06\n",
      "differential_evolution step 23: f(x)= 1.52213e+06\n",
      "differential_evolution step 24: f(x)= 87830.6\n",
      "differential_evolution step 25: f(x)= 87830.6\n",
      "differential_evolution step 26: f(x)= 87830.6\n",
      "differential_evolution step 27: f(x)= 87830.6\n",
      "differential_evolution step 28: f(x)= 87830.6\n",
      "differential_evolution step 29: f(x)= 87830.6\n",
      "differential_evolution step 30: f(x)= 86721\n",
      "differential_evolution step 31: f(x)= 81889.8\n",
      "differential_evolution step 32: f(x)= 81889.8\n",
      "differential_evolution step 33: f(x)= 81889.8\n",
      "differential_evolution step 34: f(x)= 81889.8\n",
      "differential_evolution step 35: f(x)= 81889.8\n",
      "differential_evolution step 36: f(x)= 81889.8\n",
      "differential_evolution step 37: f(x)= 81889.8\n",
      "differential_evolution step 38: f(x)= 81889.8\n",
      "differential_evolution step 39: f(x)= 74498.6\n",
      "differential_evolution step 40: f(x)= 74498.6\n",
      "differential_evolution step 41: f(x)= 70173.7\n",
      "differential_evolution step 42: f(x)= 64635.6\n",
      "differential_evolution step 43: f(x)= 59921.3\n",
      "differential_evolution step 44: f(x)= 59921.3\n",
      "differential_evolution step 45: f(x)= 57695.9\n",
      "differential_evolution step 46: f(x)= 56938.6\n",
      "differential_evolution step 47: f(x)= 55636.4\n",
      "differential_evolution step 48: f(x)= 49380.8\n",
      "differential_evolution step 49: f(x)= 49380.8\n",
      "differential_evolution step 50: f(x)= 48881.2\n",
      "differential_evolution step 51: f(x)= 48881.2\n",
      "differential_evolution step 52: f(x)= 48881.2\n",
      "differential_evolution step 53: f(x)= 48881.2\n",
      "differential_evolution step 54: f(x)= 48881.2\n",
      "differential_evolution step 55: f(x)= 48442.1\n",
      "differential_evolution step 56: f(x)= 48442.1\n",
      "differential_evolution step 57: f(x)= 48442.1\n",
      "differential_evolution step 58: f(x)= 48442.1\n",
      "differential_evolution step 59: f(x)= 48442.1\n",
      "differential_evolution step 60: f(x)= 48442.1\n",
      "differential_evolution step 61: f(x)= 48442.1\n",
      "differential_evolution step 62: f(x)= 48374.6\n",
      "differential_evolution step 63: f(x)= 48374.6\n",
      "differential_evolution step 64: f(x)= 48370.8\n",
      "differential_evolution step 65: f(x)= 48115.9\n",
      "differential_evolution step 66: f(x)= 48105\n",
      "differential_evolution step 67: f(x)= 48085.3\n",
      "differential_evolution step 68: f(x)= 47991.2\n",
      "differential_evolution step 69: f(x)= 47968.1\n",
      "differential_evolution step 70: f(x)= 47968.1\n",
      "differential_evolution step 71: f(x)= 47968.1\n",
      "differential_evolution step 72: f(x)= 47968.1\n",
      "differential_evolution step 73: f(x)= 47968.1\n",
      "differential_evolution step 74: f(x)= 47968.1\n",
      "differential_evolution step 75: f(x)= 47954.2\n",
      "differential_evolution step 76: f(x)= 47954.2\n",
      "differential_evolution step 77: f(x)= 47954.2\n",
      "differential_evolution step 78: f(x)= 47954.2\n",
      "differential_evolution step 79: f(x)= 47954.2\n",
      "differential_evolution step 80: f(x)= 47954.2\n",
      "differential_evolution step 81: f(x)= 47954.2\n",
      "differential_evolution step 82: f(x)= 47954.2\n",
      "differential_evolution step 83: f(x)= 47954.2\n",
      "differential_evolution step 84: f(x)= 47954.2\n",
      "differential_evolution step 85: f(x)= 47954.2\n",
      "differential_evolution step 86: f(x)= 47954.2\n",
      "differential_evolution step 87: f(x)= 47954.2\n",
      "differential_evolution step 88: f(x)= 47954.2\n",
      "differential_evolution step 89: f(x)= 47954.2\n",
      "differential_evolution step 90: f(x)= 47954.2\n",
      "differential_evolution step 91: f(x)= 47954.2\n",
      "differential_evolution step 92: f(x)= 47954.2\n"
     ]
    },
    {
     "name": "stderr",
     "output_type": "stream",
     "text": [
      "\u001b[1;32m[INFO]    ::\u001b[0m \u001b[1;34mfitting.py 180 iterative_fitting()\u001b[0m - n_order = 2: RMS = 3.76899\n",
      "\u001b[1;32m[INFO]    ::\u001b[0m \u001b[1;34mfitting.py 180 iterative_fitting()\u001b[0m - n_order = 3: RMS = 0.279655\n",
      "\u001b[1;32m[INFO]    ::\u001b[0m \u001b[1;34mfitting.py 180 iterative_fitting()\u001b[0m - n_order = 4: RMS = 0.0686988\n"
     ]
    }
   ],
   "source": [
    "reload(lbt)\n",
    "final_fit = lbt.do_it_all(11, '600', plot_fil='tst.png')"
   ]
  },
  {
   "cell_type": "code",
   "execution_count": null,
   "metadata": {},
   "outputs": [],
   "source": []
  }
 ],
 "metadata": {
  "kernelspec": {
   "display_name": "Python 3",
   "language": "python",
   "name": "python3"
  },
  "language_info": {
   "codemirror_mode": {
    "name": "ipython",
    "version": 3
   },
   "file_extension": ".py",
   "mimetype": "text/x-python",
   "name": "python",
   "nbconvert_exporter": "python",
   "pygments_lexer": "ipython3",
   "version": "3.6.3"
  }
 },
 "nbformat": 4,
 "nbformat_minor": 2
}
